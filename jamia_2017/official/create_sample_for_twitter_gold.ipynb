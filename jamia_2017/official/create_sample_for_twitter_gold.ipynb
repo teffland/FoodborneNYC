{
 "cells": [
  {
   "cell_type": "code",
   "execution_count": 51,
   "metadata": {},
   "outputs": [],
   "source": [
    "import pandas as pd\n",
    "from collections import defaultdict\n",
    "from datetime import datetime\n",
    "import numpy as np\n",
    "import pandas as pd"
   ]
  },
  {
   "cell_type": "code",
   "execution_count": 56,
   "metadata": {},
   "outputs": [],
   "source": [
    "biased_complement = pd.read_excel('data/twitter_data/twitter_no_label_9_19_17.xlsx')"
   ]
  },
  {
   "cell_type": "code",
   "execution_count": 67,
   "metadata": {},
   "outputs": [],
   "source": [
    "def normalize(df):\n",
    "    return df.groupby(['source_id']).aggregate(\n",
    "        {'label_someone_got_sick':'first',\n",
    "         'text':'first',\n",
    "         'created_date':'first',\n",
    "        'twitter_user_id': 'first',\n",
    "        'location': 'first'}).reset_index()\n",
    "\n",
    "def rename(g, is_foodborne_map={'YES': 1, 'NO': 0}):\n",
    "    g.loc[:, 'url'] = 'https://twitter.com/' + g.twitter_user_id.astype(str) + '/status/' + g.source_id.astype(str)\n",
    "    g = g.filter(['created_date', 'text', 'url', 'location', 'label_someone_got_sick']).rename(columns={\n",
    "    'label_someone_got_sick': 'is_foodborne',\n",
    "    'created_date': 'date'})\n",
    "    g.is_foodborne = g.is_foodborne.map(is_foodborne_map)\n",
    "    g.loc[:,'is_foodborne'] = ''\n",
    "    g.loc[:,'is_multiple'] = ''\n",
    "    g.loc[:,'is_nyc_located'] = ''\n",
    "    return g\n",
    "\n",
    "def validate(g):\n",
    "    return g[~g.is_foodborne.isnull()]\n",
    "\n",
    "def split(df, date):\n",
    "    return (df[df.date < date], df[df.date >= date])\n"
   ]
  },
  {
   "cell_type": "code",
   "execution_count": 68,
   "metadata": {},
   "outputs": [],
   "source": [
    "biased_complement_csv = validate(rename(normalize(biased_complement), is_foodborne_map=defaultdict(int)))"
   ]
  },
  {
   "cell_type": "code",
   "execution_count": 69,
   "metadata": {},
   "outputs": [],
   "source": [
    "test_split_date_str = '6/1/2017'\n",
    "test_split_date = datetime.strptime(test_split_date_str, '%m/%d/%Y')\n",
    "(old_biased_complement, new_biased_complement) = split(biased_complement_csv, test_split_date)"
   ]
  },
  {
   "cell_type": "code",
   "execution_count": 70,
   "metadata": {},
   "outputs": [
    {
     "name": "stdout",
     "output_type": "stream",
     "text": [
      "23115\n",
      "6885\n"
     ]
    }
   ],
   "source": [
    "print len(old_biased_complement)\n",
    "print len(new_biased_complement)\n"
   ]
  },
  {
   "cell_type": "code",
   "execution_count": 71,
   "metadata": {},
   "outputs": [],
   "source": [
    "old_biased_complement_sampled = old_biased_complement.sample(n=1000, random_state=0)\n",
    "new_biased_complement_sampled = new_biased_complement.sample(n=1000, random_state=0)"
   ]
  },
  {
   "cell_type": "code",
   "execution_count": 72,
   "metadata": {},
   "outputs": [],
   "source": [
    "old_biased_complement_sampled.to_csv('data/twitter_data/old_biased_complement_sampled.csv', encoding='UTF-8')\n",
    "new_biased_complement_sampled.to_csv('data/twitter_data/new_biased_complement_sampled.csv', encoding='UTF-8')\n"
   ]
  },
  {
   "cell_type": "code",
   "execution_count": null,
   "metadata": {},
   "outputs": [],
   "source": []
  },
  {
   "cell_type": "code",
   "execution_count": 23,
   "metadata": {},
   "outputs": [],
   "source": [
    "from experiments.baseline_experiment_util import setup_baseline_data"
   ]
  },
  {
   "cell_type": "code",
   "execution_count": 26,
   "metadata": {},
   "outputs": [
    {
     "name": "stderr",
     "output_type": "stream",
     "text": [
      "experiments/baseline_experiment_util.py:76: SettingWithCopyWarning: \n",
      "A value is trying to be set on a copy of a slice from a DataFrame.\n",
      "Try using .loc[row_indexer,col_indexer] = value instead\n",
      "\n",
      "See the caveats in the documentation: http://pandas.pydata.org/pandas-docs/stable/indexing.html#indexing-view-versus-copy\n",
      "  old_biased['is_foodborne'] = old_biased['is_foodborne'].map({'Yes':1, 'No':0})\n",
      "experiments/baseline_experiment_util.py:78: SettingWithCopyWarning: \n",
      "A value is trying to be set on a copy of a slice from a DataFrame.\n",
      "Try using .loc[row_indexer,col_indexer] = value instead\n",
      "\n",
      "See the caveats in the documentation: http://pandas.pydata.org/pandas-docs/stable/indexing.html#indexing-view-versus-copy\n",
      "  new_biased['is_foodborne'] = new_biased['is_foodborne'].map({'Yes':1, 'No':0})\n",
      "experiments/baseline_experiment_util.py:81: SettingWithCopyWarning: \n",
      "A value is trying to be set on a copy of a slice from a DataFrame.\n",
      "Try using .loc[row_indexer,col_indexer] = value instead\n",
      "\n",
      "See the caveats in the documentation: http://pandas.pydata.org/pandas-docs/stable/indexing.html#indexing-view-versus-copy\n",
      "  old_biased['is_multiple'] = old_biased['is_multiple'].map({'Yes':1, 'No':0})\n",
      "experiments/baseline_experiment_util.py:83: SettingWithCopyWarning: \n",
      "A value is trying to be set on a copy of a slice from a DataFrame.\n",
      "Try using .loc[row_indexer,col_indexer] = value instead\n",
      "\n",
      "See the caveats in the documentation: http://pandas.pydata.org/pandas-docs/stable/indexing.html#indexing-view-versus-copy\n",
      "  new_biased['is_multiple'] = new_biased['is_multiple'].map({'Yes':1, 'No':0})\n"
     ]
    }
   ],
   "source": [
    "data = setup_baseline_data(dataset='yelp', train_regime='gold', test_regime='gold', data_path='data/yelp_data/')"
   ]
  },
  {
   "cell_type": "code",
   "execution_count": 27,
   "metadata": {},
   "outputs": [
    {
     "data": {
      "text/plain": [
       "['test_data', 'U', 'train_data']"
      ]
     },
     "execution_count": 27,
     "metadata": {},
     "output_type": "execute_result"
    }
   ],
   "source": [
    "data.keys()"
   ]
  },
  {
   "cell_type": "code",
   "execution_count": 28,
   "metadata": {},
   "outputs": [
    {
     "data": {
      "text/plain": [
       "['is_multiple', 'text', 'is_foodborne', 'is_biased']"
      ]
     },
     "execution_count": 28,
     "metadata": {},
     "output_type": "execute_result"
    }
   ],
   "source": [
    "data['test_data'].keys()"
   ]
  },
  {
   "cell_type": "code",
   "execution_count": 37,
   "metadata": {},
   "outputs": [
    {
     "data": {
      "text/plain": [
       "True     1975\n",
       "False    1000\n",
       "dtype: int64"
      ]
     },
     "execution_count": 37,
     "metadata": {},
     "output_type": "execute_result"
    }
   ],
   "source": [
    "pd.Series(data['test_data']['is_biased']).value_counts()"
   ]
  },
  {
   "cell_type": "code",
   "execution_count": null,
   "metadata": {},
   "outputs": [],
   "source": []
  },
  {
   "cell_type": "code",
   "execution_count": 42,
   "metadata": {},
   "outputs": [
    {
     "data": {
      "text/plain": [
       "[{u'action_item': '',\n",
       "  u'business_id': '',\n",
       "  u'callDate': '',\n",
       "  u'complaint_date': '',\n",
       "  u'complaint_num': '',\n",
       "  u'conversation_tracking_attempted_': Timestamp('1900-01-02 00:00:00'),\n",
       "  u'created_date': Timestamp('2016-11-28 12:06:08.380000'),\n",
       "  u'document_id': '',\n",
       "  u'dohmh_id': '',\n",
       "  u'emailDate': '',\n",
       "  u'final_status': '',\n",
       "  u'final_status_date': '',\n",
       "  u'foursquare_checkin_attempted_dat': Timestamp('1900-01-02 00:00:00'),\n",
       "  u'id': 867682,\n",
       "  u'in_reply_to_tweet_id': '',\n",
       "  u'incident_date': '',\n",
       "  u'incident_description': '',\n",
       "  u'interviewDate': '',\n",
       "  u'interviewStatus': '',\n",
       "  u'is311': '',\n",
       "  u'is_foodborne': '',\n",
       "  u'is_nyc': '',\n",
       "  u'is_nycetrack': '',\n",
       "  u'is_same_as_reviewer': '',\n",
       "  u'label_notes': '',\n",
       "  u'label_nyc_located': u'UNKNOWN',\n",
       "  u'label_serious_enough': '',\n",
       "  u'label_someone_got_sick': '',\n",
       "  u'label_timing_consistent': '',\n",
       "  u'labeled_by_user_id': '',\n",
       "  u'labeled_date': Timestamp('1900-01-02 00:00:00'),\n",
       "  u'latitude': 0.0,\n",
       "  u'linkSentDate': '',\n",
       "  u'location': '',\n",
       "  u'longitude': 0.0,\n",
       "  u'maven_outbreak_event_id': '',\n",
       "  u'message_date': '',\n",
       "  u'message_response': '',\n",
       "  u'message_response_date': '',\n",
       "  u'message_type': '',\n",
       "  u'name': u'Eminem Lyrics',\n",
       "  u'nycetrack_id': '',\n",
       "  u'outbreak_inv': '',\n",
       "  u'people_affected': 1,\n",
       "  u'restaurant_address': '',\n",
       "  u'restaurant_name': '',\n",
       "  u'review_contributed': '',\n",
       "  u'screen_name': u'LyricsEminems',\n",
       "  u'sent_datetime': '',\n",
       "  u'serialized_data': u'{\"expandedTweetSet\":null,\"expansionTechnique\":\"default\",\"signalTechnique\":\"default\",\"chainTechnique\":\"default\",\"linkThreshold\":0.0}',\n",
       "  u'serialized_foursquare_checkin': '',\n",
       "  u'serialized_hashtags': u'[]',\n",
       "  u'serialized_symbols': u'[]',\n",
       "  u'serialized_urls': u'[]',\n",
       "  u'sick_date': Timestamp('2016-11-22 19:10:02'),\n",
       "  u'sick_score': 0.3043478260869565,\n",
       "  u'source': u'TWITTER',\n",
       "  u'source_created_date': '',\n",
       "  u'source_id': 801291697841995777,\n",
       "  u'surveyConfirmsFB': '',\n",
       "  u'text': u'\"\"\"You think I give a damn about a Grammy? Half of you critics can\\'t even stomach me, let alone stand me.\"\"\"',\n",
       "  u'timeline_expansion_attempted_dat': Timestamp('1900-01-02 00:00:00'),\n",
       "  u'times_labeled': 0,\n",
       "  u'tweet_id': '',\n",
       "  u'tweet_no': 1040267,\n",
       "  u'tweet_text': '',\n",
       "  u'twitter_user_id': 316179846,\n",
       "  u'user_id': '',\n",
       "  u'user_tweet_id': '',\n",
       "  u'visit_date': Timestamp('2016-11-22 19:10:02')},\n",
       " {u'action_item': '',\n",
       "  u'business_id': '',\n",
       "  u'callDate': '',\n",
       "  u'complaint_date': '',\n",
       "  u'complaint_num': '',\n",
       "  u'conversation_tracking_attempted_': Timestamp('1900-01-02 00:00:00'),\n",
       "  u'created_date': Timestamp('2016-11-28 12:09:43.267000'),\n",
       "  u'document_id': '',\n",
       "  u'dohmh_id': '',\n",
       "  u'emailDate': '',\n",
       "  u'final_status': '',\n",
       "  u'final_status_date': '',\n",
       "  u'foursquare_checkin_attempted_dat': Timestamp('1900-01-02 00:00:00'),\n",
       "  u'id': 868085,\n",
       "  u'in_reply_to_tweet_id': '',\n",
       "  u'incident_date': '',\n",
       "  u'incident_description': '',\n",
       "  u'interviewDate': '',\n",
       "  u'interviewStatus': '',\n",
       "  u'is311': '',\n",
       "  u'is_foodborne': '',\n",
       "  u'is_nyc': '',\n",
       "  u'is_nycetrack': '',\n",
       "  u'is_same_as_reviewer': '',\n",
       "  u'label_notes': '',\n",
       "  u'label_nyc_located': u'UNKNOWN',\n",
       "  u'label_serious_enough': '',\n",
       "  u'label_someone_got_sick': '',\n",
       "  u'label_timing_consistent': '',\n",
       "  u'labeled_by_user_id': '',\n",
       "  u'labeled_date': Timestamp('1900-01-02 00:00:00'),\n",
       "  u'latitude': 0.0,\n",
       "  u'linkSentDate': '',\n",
       "  u'location': '',\n",
       "  u'longitude': 0.0,\n",
       "  u'maven_outbreak_event_id': '',\n",
       "  u'message_date': '',\n",
       "  u'message_response': '',\n",
       "  u'message_response_date': '',\n",
       "  u'message_type': '',\n",
       "  u'name': u'Shellsy Garcia',\n",
       "  u'nycetrack_id': '',\n",
       "  u'outbreak_inv': '',\n",
       "  u'people_affected': 1,\n",
       "  u'restaurant_address': '',\n",
       "  u'restaurant_name': '',\n",
       "  u'review_contributed': '',\n",
       "  u'screen_name': u'Shellsy24Garcia',\n",
       "  u'sent_datetime': '',\n",
       "  u'serialized_data': u'{\"expandedTweetSet\":null,\"expansionTechnique\":\"default\",\"signalTechnique\":\"default\",\"chainTechnique\":\"default\",\"linkThreshold\":0.0}',\n",
       "  u'serialized_foursquare_checkin': '',\n",
       "  u'serialized_hashtags': u'[]',\n",
       "  u'serialized_symbols': u'[]',\n",
       "  u'serialized_urls': u'[]',\n",
       "  u'sick_date': Timestamp('2016-11-22 19:30:09'),\n",
       "  u'sick_score': 0.32575757575757575,\n",
       "  u'source': u'TWITTER',\n",
       "  u'source_created_date': '',\n",
       "  u'source_id': 801296758546530305,\n",
       "  u'surveyConfirmsFB': '',\n",
       "  u'text': u'But that hit in the stomach ???? @msleamichele',\n",
       "  u'timeline_expansion_attempted_dat': Timestamp('1900-01-02 00:00:00'),\n",
       "  u'times_labeled': 0,\n",
       "  u'tweet_id': '',\n",
       "  u'tweet_no': 1040673,\n",
       "  u'tweet_text': '',\n",
       "  u'twitter_user_id': 3282891990,\n",
       "  u'user_id': '',\n",
       "  u'user_tweet_id': '',\n",
       "  u'visit_date': Timestamp('2016-11-22 19:30:09')}]"
      ]
     },
     "execution_count": 42,
     "metadata": {},
     "output_type": "execute_result"
    }
   ],
   "source": [
    "biased_complement.head(2).fillna(\"\").to_dict(orient=\"records\")"
   ]
  },
  {
   "cell_type": "code",
   "execution_count": 50,
   "metadata": {},
   "outputs": [
    {
     "name": "stdout",
     "output_type": "stream",
     "text": [
      "['labeled_by_user_id', 'label_nyc_located', 'user_tweet_id', 'twitter_user_id', 'location', 'user_id']\n",
      "United States      339\n",
      "Los Angeles, CA    120\n",
      "California, USA    107\n",
      "butt                92\n",
      "Chicago, IL         91\n",
      "Name: location, dtype: int64\n",
      "UNKNOWN    30000\n",
      "Name: label_nyc_located, dtype: int64\n"
     ]
    }
   ],
   "source": [
    "print [x for x in list(biased_complement.columns.astype(str)) if 'user' in x or 'loc' in x]\n",
    "print biased_complement.location.value_counts().head()\n",
    "print biased_complement.label_nyc_located.value_counts().head()"
   ]
  },
  {
   "cell_type": "code",
   "execution_count": 73,
   "metadata": {},
   "outputs": [
    {
     "data": {
      "text/html": [
       "<div>\n",
       "<style>\n",
       "    .dataframe thead tr:only-child th {\n",
       "        text-align: right;\n",
       "    }\n",
       "\n",
       "    .dataframe thead th {\n",
       "        text-align: left;\n",
       "    }\n",
       "\n",
       "    .dataframe tbody tr th {\n",
       "        vertical-align: top;\n",
       "    }\n",
       "</style>\n",
       "<table border=\"1\" class=\"dataframe\">\n",
       "  <thead>\n",
       "    <tr style=\"text-align: right;\">\n",
       "      <th></th>\n",
       "      <th>date</th>\n",
       "      <th>text</th>\n",
       "      <th>url</th>\n",
       "      <th>location</th>\n",
       "      <th>is_foodborne</th>\n",
       "      <th>is_multiple</th>\n",
       "      <th>is_nyc_located</th>\n",
       "    </tr>\n",
       "  </thead>\n",
       "  <tbody>\n",
       "    <tr>\n",
       "      <th>0</th>\n",
       "      <td>2016-11-28 12:06:08.380</td>\n",
       "      <td>\"\"\"You think I give a damn about a Grammy? Hal...</td>\n",
       "      <td>https://twitter.com/316179846/status/801291697...</td>\n",
       "      <td>NaN</td>\n",
       "      <td></td>\n",
       "      <td></td>\n",
       "      <td></td>\n",
       "    </tr>\n",
       "    <tr>\n",
       "      <th>1</th>\n",
       "      <td>2016-11-28 12:09:43.267</td>\n",
       "      <td>But that hit in the stomach ???? @msleamichele</td>\n",
       "      <td>https://twitter.com/3282891990/status/80129675...</td>\n",
       "      <td>NaN</td>\n",
       "      <td></td>\n",
       "      <td></td>\n",
       "      <td></td>\n",
       "    </tr>\n",
       "    <tr>\n",
       "      <th>2</th>\n",
       "      <td>2016-11-28 12:09:44.720</td>\n",
       "      <td>@_nybarra knees weak, arms are heavy: there's ...</td>\n",
       "      <td>https://twitter.com/2915226278/status/80129678...</td>\n",
       "      <td>NaN</td>\n",
       "      <td></td>\n",
       "      <td></td>\n",
       "      <td></td>\n",
       "    </tr>\n",
       "    <tr>\n",
       "      <th>3</th>\n",
       "      <td>2016-11-28 12:11:52.983</td>\n",
       "      <td>My stomach hurt y'all</td>\n",
       "      <td>https://twitter.com/796757687300227077/status/...</td>\n",
       "      <td>Tennessee, USA</td>\n",
       "      <td></td>\n",
       "      <td></td>\n",
       "      <td></td>\n",
       "    </tr>\n",
       "    <tr>\n",
       "      <th>4</th>\n",
       "      <td>2016-11-28 12:15:12.827</td>\n",
       "      <td>Stomach is growling, time for some grub!!</td>\n",
       "      <td>https://twitter.com/1870056282/status/80130553...</td>\n",
       "      <td>NaN</td>\n",
       "      <td></td>\n",
       "      <td></td>\n",
       "      <td></td>\n",
       "    </tr>\n",
       "    <tr>\n",
       "      <th>5</th>\n",
       "      <td>2016-11-28 12:20:26.967</td>\n",
       "      <td>@GreggsOfficial #foodpoisoning #avoid\\nThanks ...</td>\n",
       "      <td>https://twitter.com/591374301/status/801314485...</td>\n",
       "      <td>Monaco-worldwide</td>\n",
       "      <td></td>\n",
       "      <td></td>\n",
       "      <td></td>\n",
       "    </tr>\n",
       "    <tr>\n",
       "      <th>6</th>\n",
       "      <td>2016-11-28 12:20:40.340</td>\n",
       "      <td>Seriously, I need that vomit emogee... https:/...</td>\n",
       "      <td>https://twitter.com/2817164700/status/80131486...</td>\n",
       "      <td>Vancouver, British Columbia</td>\n",
       "      <td></td>\n",
       "      <td></td>\n",
       "      <td></td>\n",
       "    </tr>\n",
       "    <tr>\n",
       "      <th>7</th>\n",
       "      <td>2016-11-28 12:21:02.123</td>\n",
       "      <td>my stomach hurts. i'm stressed, i'm moody and ...</td>\n",
       "      <td>https://twitter.com/775125243660820481/status/...</td>\n",
       "      <td>NaN</td>\n",
       "      <td></td>\n",
       "      <td></td>\n",
       "      <td></td>\n",
       "    </tr>\n",
       "    <tr>\n",
       "      <th>8</th>\n",
       "      <td>2016-11-28 12:21:37.183</td>\n",
       "      <td>Definitely a rest day for me. Stomach acting u...</td>\n",
       "      <td>https://twitter.com/3888296714/status/80131653...</td>\n",
       "      <td>NaN</td>\n",
       "      <td></td>\n",
       "      <td></td>\n",
       "      <td></td>\n",
       "    </tr>\n",
       "    <tr>\n",
       "      <th>9</th>\n",
       "      <td>2016-11-28 12:22:52.217</td>\n",
       "      <td>Crying at a sappy Hallmark Christmas movie whi...</td>\n",
       "      <td>https://twitter.com/449182873/status/801319215...</td>\n",
       "      <td>NaN</td>\n",
       "      <td></td>\n",
       "      <td></td>\n",
       "      <td></td>\n",
       "    </tr>\n",
       "  </tbody>\n",
       "</table>\n",
       "</div>"
      ],
      "text/plain": [
       "                     date                                               text  \\\n",
       "0 2016-11-28 12:06:08.380  \"\"\"You think I give a damn about a Grammy? Hal...   \n",
       "1 2016-11-28 12:09:43.267     But that hit in the stomach ???? @msleamichele   \n",
       "2 2016-11-28 12:09:44.720  @_nybarra knees weak, arms are heavy: there's ...   \n",
       "3 2016-11-28 12:11:52.983                              My stomach hurt y'all   \n",
       "4 2016-11-28 12:15:12.827          Stomach is growling, time for some grub!!   \n",
       "5 2016-11-28 12:20:26.967  @GreggsOfficial #foodpoisoning #avoid\\nThanks ...   \n",
       "6 2016-11-28 12:20:40.340  Seriously, I need that vomit emogee... https:/...   \n",
       "7 2016-11-28 12:21:02.123  my stomach hurts. i'm stressed, i'm moody and ...   \n",
       "8 2016-11-28 12:21:37.183  Definitely a rest day for me. Stomach acting u...   \n",
       "9 2016-11-28 12:22:52.217  Crying at a sappy Hallmark Christmas movie whi...   \n",
       "\n",
       "                                                 url  \\\n",
       "0  https://twitter.com/316179846/status/801291697...   \n",
       "1  https://twitter.com/3282891990/status/80129675...   \n",
       "2  https://twitter.com/2915226278/status/80129678...   \n",
       "3  https://twitter.com/796757687300227077/status/...   \n",
       "4  https://twitter.com/1870056282/status/80130553...   \n",
       "5  https://twitter.com/591374301/status/801314485...   \n",
       "6  https://twitter.com/2817164700/status/80131486...   \n",
       "7  https://twitter.com/775125243660820481/status/...   \n",
       "8  https://twitter.com/3888296714/status/80131653...   \n",
       "9  https://twitter.com/449182873/status/801319215...   \n",
       "\n",
       "                      location is_foodborne is_multiple is_nyc_located  \n",
       "0                          NaN                                          \n",
       "1                          NaN                                          \n",
       "2                          NaN                                          \n",
       "3               Tennessee, USA                                          \n",
       "4                          NaN                                          \n",
       "5             Monaco-worldwide                                          \n",
       "6  Vancouver, British Columbia                                          \n",
       "7                          NaN                                          \n",
       "8                          NaN                                          \n",
       "9                          NaN                                          "
      ]
     },
     "execution_count": 73,
     "metadata": {},
     "output_type": "execute_result"
    }
   ],
   "source": [
    "biased_complement_csv.head(10)"
   ]
  },
  {
   "cell_type": "code",
   "execution_count": null,
   "metadata": {},
   "outputs": [],
   "source": []
  }
 ],
 "metadata": {
  "kernelspec": {
   "display_name": "Python 2",
   "language": "python",
   "name": "python2"
  },
  "language_info": {
   "codemirror_mode": {
    "name": "ipython",
    "version": 2
   },
   "file_extension": ".py",
   "mimetype": "text/x-python",
   "name": "python",
   "nbconvert_exporter": "python",
   "pygments_lexer": "ipython2",
   "version": "2.7.12"
  }
 },
 "nbformat": 4,
 "nbformat_minor": 2
}
